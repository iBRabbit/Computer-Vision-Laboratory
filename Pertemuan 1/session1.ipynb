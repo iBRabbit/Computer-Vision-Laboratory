{
 "cells": [
  {
   "cell_type": "markdown",
   "metadata": {},
   "source": [
    "### Data Types\n",
    "\n",
    "List : Mirip array biasa \\\n",
    "Tuple : Tidak bisa mengganti isi data. \\\n",
    "Set : Mirip list tapi isi datanya harus unique \\\n",
    "Dictionary : Isinya format {key : value}"
   ]
  },
  {
   "cell_type": "code",
   "execution_count": 14,
   "metadata": {},
   "outputs": [
    {
     "name": "stdout",
     "output_type": "stream",
     "text": [
      "[5]\n",
      "(3, 4, 5)\n",
      "{3, 4, 5}\n",
      "Felix\n",
      "Felix\n",
      "[0, 1, 2, 3, 4, 5, 6, 7, 8, 9, 10, 11, 12, 13, 14, 15, 16, 17, 18, 19, 20, 21, 22, 23, 24, 25, 26, 27, 28, 29, 30, 31, 32, 33, 34, 35, 36, 37, 38, 39, 40, 41, 42, 43, 44, 45, 46, 47, 48, 49, 50, 51, 52, 53, 54, 55, 56, 57, 58, 59, 60, 61, 62, 63, 64, 65, 66, 67, 68, 69, 70, 71, 72, 73, 74, 75, 76, 77, 78, 79, 80, 81, 82, 83, 84, 85, 86, 87, 88, 89, 90, 91, 92, 93, 94, 95, 96, 97, 98, 99, 100]\n"
     ]
    }
   ],
   "source": [
    "myList = list()\n",
    "myList.append(5)\n",
    "print(myList)\n",
    "\n",
    "myTuple = (3,4,5)\n",
    "print(myTuple)\n",
    "\n",
    "mySet = {3,4,5,5}\n",
    "print(mySet)\n",
    "\n",
    "myDictionary = {\"name\"  : \"Felix\"}\n",
    "print(myDictionary[\"name\"])\n",
    "\n",
    "myListDictionary = [\n",
    "    {\"name\" : \"Felix\", \"class\" : \"LA05\"}, \n",
    "    {\"name\" : \"Udin\", \"class\" : \"LA06\"}\n",
    "]\n",
    "\n",
    "print(myListDictionary[0][\"name\"])\n",
    "\n",
    "# List Comprehension\n",
    "i = [x for x in range(101)]\n",
    "print(i)"
   ]
  },
  {
   "cell_type": "code",
   "execution_count": 43,
   "metadata": {},
   "outputs": [
    {
     "name": "stdout",
     "output_type": "stream",
     "text": [
      "[3 4 1]\n",
      "[[3 4 5]\n",
      " [6 7 8]]\n"
     ]
    }
   ],
   "source": [
    "import numpy as np\n",
    "\n",
    "my1DArray = np.array([3,4,1])\n",
    "my2DArray = np.array([\n",
    "    [3,4,5],\n",
    "    [6,7,8]\n",
    "])\n",
    "print(my1DArray)\n",
    "print(my2DArray)"
   ]
  },
  {
   "cell_type": "markdown",
   "metadata": {},
   "source": [
    "### Read Image\n",
    "\n",
    "imread -> Baca gambar\\\n",
    "imshow -> nampilin gambar\\\n",
    "waitKey > nunggu key untuk close"
   ]
  },
  {
   "cell_type": "code",
   "execution_count": 28,
   "metadata": {},
   "outputs": [],
   "source": [
    "import random\n",
    "from tkinter import N\n",
    "import cv2\n",
    "\n",
    "cat = cv2.imread(\"./cat.jpg\", 3)\n",
    "cat = cv2.resize(cat, (int(cat.shape[1] * 0.5), int( cat.shape[0] * 0.5)), interpolation=cv2.INTER_AREA)"
   ]
  },
  {
   "cell_type": "code",
   "execution_count": 31,
   "metadata": {},
   "outputs": [],
   "source": [
    "divider = int(cat.shape[0] / 3)\n",
    "for i in range(50) :\n",
    "    string = f\"image{i + 1}.jpg\"  \n",
    "    k = 0\n",
    "    for j in range(0, 3) :\n",
    "        k += divider\n",
    "        cat[:, :k, j] = random.randint(0, 255)\n",
    "    k = 0\n",
    "    cv2.destroyAllWindows()\n",
    "    cv2.imwrite(string, cat)"
   ]
  },
  {
   "cell_type": "code",
   "execution_count": 32,
   "metadata": {},
   "outputs": [
    {
     "data": {
      "text/plain": [
       "True"
      ]
     },
     "execution_count": 32,
     "metadata": {},
     "output_type": "execute_result"
    }
   ],
   "source": [
    "string = f\"image{i + 1}.jpg\"  \n",
    "k = 0\n",
    "for j in range(0, 3) :\n",
    "    k += divider\n",
    "    cat[:, :k, j] = random.randint(0, 255)\n",
    "k = 0\n",
    "cv2.destroyAllWindows()\n",
    "cv2.imwrite(string, cat)"
   ]
  },
  {
   "cell_type": "code",
   "execution_count": null,
   "metadata": {},
   "outputs": [],
   "source": []
  }
 ],
 "metadata": {
  "kernelspec": {
   "display_name": "Python 3.7.6 64-bit",
   "language": "python",
   "name": "python3"
  },
  "language_info": {
   "codemirror_mode": {
    "name": "ipython",
    "version": 3
   },
   "file_extension": ".py",
   "mimetype": "text/x-python",
   "name": "python",
   "nbconvert_exporter": "python",
   "pygments_lexer": "ipython3",
   "version": "3.7.6"
  },
  "orig_nbformat": 4,
  "vscode": {
   "interpreter": {
    "hash": "d983aa2a2bc164ca145b74c30a077245dc65a11395320957faf99b524e3477cb"
   }
  }
 },
 "nbformat": 4,
 "nbformat_minor": 2
}
